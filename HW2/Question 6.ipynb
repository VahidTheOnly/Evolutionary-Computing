{
 "cells": [
  {
   "cell_type": "markdown",
   "metadata": {},
   "source": [
    "<div dir='rtl'>\n",
    "<h1>به نام خدا</h1>\n",
    "در این سوال ما چهار نوع بازنمایی داریم. عدد صحیح، اعداد اعشاری، باینری و درخت که در ادامه تابع برای تولید کروموزوم با هر یک را پیاده سازی کرده ایم.\n",
    "\n",
    "جمعیت 10 کروموزوم و هر کدام 5 ژن خواهد داشت.\n",
    "\n",
    "همچنین اعمال تقاطع و جهش و انتخاب را هرکدام با سه روش پیاده سازی خواهیم کرد.\n",
    "</div>"
   ]
  },
  {
   "cell_type": "markdown",
   "metadata": {},
   "source": [
    "### 1. Integer representation\n",
    "\n",
    "<div dir=\"rtl\">\n",
    "هر کدام از ژن ها عدد رندوم بین 0 تا 9 است و در این پیاده سازی فرض کردیم تکرار نیز مجاز باشد.\n",
    "</div>\n"
   ]
  },
  {
   "cell_type": "code",
   "execution_count": 16,
   "metadata": {},
   "outputs": [
    {
     "name": "stdout",
     "output_type": "stream",
     "text": [
      "Integer Chromosomes:\n",
      "Chromosome 0: [3, 1, 4, 9, 6]\n",
      "Chromosome 1: [9, 4, 4, 2, 3]\n",
      "Chromosome 2: [1, 5, 8, 6, 1]\n",
      "Chromosome 3: [1, 6, 6, 8, 6]\n",
      "Chromosome 4: [1, 2, 4, 0, 6]\n",
      "Chromosome 5: [3, 7, 2, 0, 3]\n",
      "Chromosome 6: [6, 2, 7, 0, 7]\n",
      "Chromosome 7: [4, 2, 0, 4, 4]\n",
      "Chromosome 8: [9, 6, 2, 4, 3]\n",
      "Chromosome 9: [3, 3, 0, 8, 1]\n"
     ]
    }
   ],
   "source": [
    "import random\n",
    "\n",
    "def generate_integer_chromosomes():\n",
    "    population = []\n",
    "    for _ in range(10):\n",
    "        chromosome = []\n",
    "        for _ in range(5):\n",
    "            gene = random.randint(0, 9)\n",
    "            chromosome.append(gene)\n",
    "        population.append(chromosome)\n",
    "    return population\n",
    "\n",
    "integer_population = generate_integer_chromosomes()\n",
    "print(\"Integer Chromosomes:\")\n",
    "for i, chrom in enumerate(integer_population):\n",
    "    print(f\"Chromosome {i}: {chrom}\")"
   ]
  },
  {
   "cell_type": "markdown",
   "metadata": {},
   "source": [
    "---"
   ]
  },
  {
   "cell_type": "markdown",
   "metadata": {},
   "source": [
    "### 2. Floating Point Representation\n",
    "\n",
    "<div dir=\"rtl\">\n",
    "بازنمایی اعداد اعشاری با دو رقم اعشار که به صورت رندوم انتخاب میکنیم.\n",
    "</div>"
   ]
  },
  {
   "cell_type": "code",
   "execution_count": 17,
   "metadata": {},
   "outputs": [
    {
     "name": "stdout",
     "output_type": "stream",
     "text": [
      "\n",
      "Floating Point Chromosomes:\n",
      "Chromosome 0: [0.15, 0.87, 0.62, 0.18, 0.09]\n",
      "Chromosome 1: [0.52, 0.17, 0.39, 0.31, 0.13]\n",
      "Chromosome 2: [0.58, 0.59, 0.02, 0.37, 0.63]\n",
      "Chromosome 3: [0.6, 0.18, 0.52, 0.86, 0.37]\n",
      "Chromosome 4: [0.71, 0.6, 0.17, 0.65, 0.11]\n",
      "Chromosome 5: [0.77, 0.25, 0.22, 0.34, 0.52]\n",
      "Chromosome 6: [0.42, 0.23, 0.66, 0.74, 0.75]\n",
      "Chromosome 7: [0.85, 0.52, 0.7, 0.28, 0.76]\n",
      "Chromosome 8: [0.62, 0.86, 0.22, 0.37, 0.92]\n",
      "Chromosome 9: [0.66, 0.06, 0.65, 0.88, 0.95]\n"
     ]
    }
   ],
   "source": [
    "def generate_float_chromosomes():\n",
    "    population = []\n",
    "    for _ in range(10):\n",
    "        chromosome = []\n",
    "        for _ in range(5):\n",
    "            gene = round(random.random(), 2) \n",
    "            chromosome.append(gene)\n",
    "        population.append(chromosome)\n",
    "    return population\n",
    "\n",
    "float_population = generate_float_chromosomes()\n",
    "print(\"\\nFloating Point Chromosomes:\")\n",
    "for i, chrom in enumerate(float_population):\n",
    "    print(f\"Chromosome {i}: {chrom}\")"
   ]
  },
  {
   "cell_type": "markdown",
   "metadata": {},
   "source": [
    "---"
   ]
  },
  {
   "cell_type": "markdown",
   "metadata": {},
   "source": [
    "### 3. Tree Representation\n",
    "\n",
    "<div dir=\"rtl\">\n",
    "در بازنمایی درخت ما درخت برای نمایش عبارات ریاضی استفاده میکنیم که عبارات با استفاده از (+، -، *، /) و ارقام 0 تا 9 ساخته میشود و عمق درخت را نیز برای سادگی سه در نظر گرفته ایم.\n",
    "\n",
    "تابع `generate_tree(depth)` درخت را به صورت بازگشتی میسازد. اگر مقدار depth برابر صفر شود به احتمال 30% یک عدد برمیگرداند در غیر اینصورت یک عملگر بر میگرداند و دو زیردرخت می سازد.\n",
    "</div>"
   ]
  },
  {
   "cell_type": "code",
   "execution_count": 18,
   "metadata": {},
   "outputs": [
    {
     "name": "stdout",
     "output_type": "stream",
     "text": [
      "\n",
      "Tree Chromosomes:\n",
      "Chromosome 0: 1\n",
      "Chromosome 1: ['*', ['-', ['+', 9, 7], 2], ['+', ['+', 2, 6], ['*', 5, 0]]]\n",
      "Chromosome 2: ['/', ['+', 6, ['+', 2, 9]], ['+', ['-', 4, 7], 3]]\n",
      "Chromosome 3: 8\n",
      "Chromosome 4: 8\n",
      "Chromosome 5: ['/', 8, 7]\n",
      "Chromosome 6: ['/', 3, ['/', ['-', 6, 2], 0]]\n",
      "Chromosome 7: 5\n",
      "Chromosome 8: ['/', 7, ['*', 8, 8]]\n",
      "Chromosome 9: ['-', ['*', ['*', 4, 1], 3], ['-', ['*', 0, 7], ['+', 5, 9]]]\n"
     ]
    }
   ],
   "source": [
    "operators = ['+', '-', '*', '/']\n",
    "\n",
    "def generate_tree(depth):\n",
    "    if depth == 0 or random.random() < 0.3:\n",
    "        return random.randint(0, 9) \n",
    "    else:\n",
    "        operator = random.choice(operators)\n",
    "        left = generate_tree(depth - 1)\n",
    "        right = generate_tree(depth - 1)\n",
    "        return [operator, left, right] \n",
    "\n",
    "def generate_tree_chromosomes():\n",
    "    population = []\n",
    "    for _ in range(10):\n",
    "        tree = generate_tree(3)\n",
    "        population.append(tree)\n",
    "    return population\n",
    "\n",
    "tree_population = generate_tree_chromosomes()\n",
    "print(\"\\nTree Chromosomes:\")\n",
    "for i, chrom in enumerate(tree_population):\n",
    "    print(f\"Chromosome {i}: {chrom}\")"
   ]
  },
  {
   "cell_type": "markdown",
   "metadata": {},
   "source": [
    "---"
   ]
  },
  {
   "cell_type": "markdown",
   "metadata": {},
   "source": [
    "### 4. Binary Representation\n",
    "\n",
    "<div dir=\"rtl\">\n",
    "در بازنمایی باینری نیز هر کروموزوم یک لیست از اعداد صفر و یک است. به صورت رندوم صفر یا یک انتخاب میکنیم.\n",
    "</div>"
   ]
  },
  {
   "cell_type": "code",
   "execution_count": 19,
   "metadata": {},
   "outputs": [
    {
     "name": "stdout",
     "output_type": "stream",
     "text": [
      "\n",
      "Binary Chromosomes:\n",
      "Chromosome 0: [0, 0, 0, 1, 1]\n",
      "Chromosome 1: [1, 1, 0, 0, 1]\n",
      "Chromosome 2: [0, 1, 1, 1, 1]\n",
      "Chromosome 3: [1, 0, 1, 0, 1]\n",
      "Chromosome 4: [0, 0, 0, 1, 1]\n",
      "Chromosome 5: [0, 1, 1, 0, 0]\n",
      "Chromosome 6: [0, 1, 0, 1, 1]\n",
      "Chromosome 7: [0, 0, 0, 1, 0]\n",
      "Chromosome 8: [0, 0, 0, 1, 1]\n",
      "Chromosome 9: [1, 1, 0, 1, 1]\n"
     ]
    }
   ],
   "source": [
    "def generate_binary_chromosomes():\n",
    "    population = []\n",
    "    for _ in range(10):\n",
    "        chromosome = []\n",
    "        for _ in range(5):\n",
    "            gene = random.randint(0, 1) \n",
    "            chromosome.append(gene)\n",
    "        population.append(chromosome)\n",
    "    return population\n",
    "\n",
    "binary_population = generate_binary_chromosomes()\n",
    "print(\"\\nBinary Chromosomes:\")\n",
    "for i, chrom in enumerate(binary_population):\n",
    "    print(f\"Chromosome {i}: {chrom}\")"
   ]
  },
  {
   "cell_type": "markdown",
   "metadata": {},
   "source": [
    "---"
   ]
  },
  {
   "cell_type": "markdown",
   "metadata": {},
   "source": [
    "## Crossover Operators\n",
    "\n",
    "<div dir=\"rtl\">\n",
    "در این بخش عمل تقاطع را پیاده سازی خواهیم کرد که به سه روش \n",
    "\n",
    "1. تقاطع چند نقطه ای \n",
    "\n",
    "2. تقاطع یکنواخت \n",
    "\n",
    "3. تقاطع بازترکیب\n",
    "</div>"
   ]
  },
  {
   "cell_type": "markdown",
   "metadata": {},
   "source": [
    "\n",
    "### 1. Multipoint Crossover (Integer)\n",
    "\n",
    "<div dir=\"rtl\">\n",
    "در کروموزوم دو نقطه را در نظرمیگیریم و بخش میانی را در دو کروموزوم عوض میکنیم.\n",
    "چون ما پنج ژن داریم پس چهار تا نقطه برای برش داریم برای مثال \n",
    "\n",
    "1, 7, 5, 9, 3\n",
    "\n",
    "میبینیم که چهار `,` هر کدام یک نقطخ ی برش را نشان میدهد ما نقطه ی اول را از بین نقاط اول تا سوم به صورت رندوم انتخاب میکنیم و نقطه ی بعدی را نیز از انجا تا اخرین نقطه به صورت رندوم انتخاب میکنیم. برش را انجام داده و بخش میانی را بین کروموزوم ها جا به جا میکنیم.\n",
    "</div>"
   ]
  },
  {
   "cell_type": "code",
   "execution_count": 20,
   "metadata": {},
   "outputs": [
    {
     "name": "stdout",
     "output_type": "stream",
     "text": [
      "\n",
      "Multipoint Crossover (Integer):\n",
      "Parent 1: [3, 1, 4, 9, 6]\n",
      "Parent 2: [9, 4, 4, 2, 3]\n",
      "Child 1: [3, 1, 4, 9, 6]\n",
      "Child 2: [9, 4, 4, 2, 3]\n"
     ]
    }
   ],
   "source": [
    "def multipoint_crossover(parent1, parent2):\n",
    "    point1 = random.randint(1, 3)\n",
    "    point2 = random.randint(point1 + 1, 4)\n",
    "\n",
    "    child1 = parent1.copy()\n",
    "    child2 = parent2.copy()\n",
    "\n",
    "    child1[point1:point2] = parent2[point1:point2]\n",
    "    child2[point1:point2] = parent1[point1:point2]\n",
    "    return child1, child2\n",
    "\n",
    "parent1 = integer_population[0]\n",
    "parent2 = integer_population[1]\n",
    "child1, child2 = multipoint_crossover(parent1, parent2)\n",
    "print(\"\\nMultipoint Crossover (Integer):\")\n",
    "print(f\"Parent 1: {parent1}\")\n",
    "print(f\"Parent 2: {parent2}\")\n",
    "print(f\"Child 1: {child1}\")\n",
    "print(f\"Child 2: {child2}\")"
   ]
  },
  {
   "cell_type": "markdown",
   "metadata": {},
   "source": [
    "---"
   ]
  },
  {
   "cell_type": "markdown",
   "metadata": {},
   "source": [
    "### 2. Uniform Crossover (Floating Point)\n",
    "\n",
    "<div dir=\"rtl\">\n",
    "هر دو ژن بین دو کروموزوم که در یک موقعیت قرار دارند را با احتمال پنجاه درصد جا به جا میکنیم.\n",
    "</div>"
   ]
  },
  {
   "cell_type": "code",
   "execution_count": 21,
   "metadata": {},
   "outputs": [
    {
     "name": "stdout",
     "output_type": "stream",
     "text": [
      "\n",
      "Uniform Crossover (Floating Point):\n",
      "Parent 1: [0.15, 0.87, 0.62, 0.18, 0.09]\n",
      "Parent 2: [0.52, 0.17, 0.39, 0.31, 0.13]\n",
      "Child 1: [0.15, 0.17, 0.39, 0.31, 0.09]\n",
      "Child 2: [0.52, 0.87, 0.62, 0.18, 0.13]\n"
     ]
    }
   ],
   "source": [
    "def uniform_crossover(parent1, parent2):\n",
    "    child1 = []\n",
    "    child2 = []\n",
    "    for p1, p2 in zip(parent1, parent2):\n",
    "        if random.random() < 0.5: \n",
    "            child1.append(p1)\n",
    "            child2.append(p2)\n",
    "        else:\n",
    "            child1.append(p2)\n",
    "            child2.append(p1)\n",
    "    return child1, child2\n",
    "\n",
    "parent1 = float_population[0]\n",
    "parent2 = float_population[1]\n",
    "child1, child2 = uniform_crossover(parent1, parent2)\n",
    "print(\"\\nUniform Crossover (Floating Point):\")\n",
    "print(f\"Parent 1: {parent1}\")\n",
    "print(f\"Parent 2: {parent2}\")\n",
    "print(f\"Child 1: {child1}\")\n",
    "print(f\"Child 2: {child2}\")"
   ]
  },
  {
   "cell_type": "markdown",
   "metadata": {},
   "source": [
    "---"
   ]
  },
  {
   "cell_type": "markdown",
   "metadata": {},
   "source": [
    "### 3. Recombination Crossover (Tree)\n",
    "\n",
    "<div dir=\"rtl\">\n",
    "به صورت رندوم زیر درخت های دو والد را عوض کرده و فرزندان را به وجود می اورد.\n",
    "\n",
    "اگر یکی از والد ها عدد بود یعنی درخت نبود جابه جایی صورت نمیگیرد اما اگر درخت بود یکی از زیردرخت هارا انتخاب کرده و با زیر درخت دیگر عوض میکنیم\n",
    "</div>"
   ]
  },
  {
   "cell_type": "code",
   "execution_count": 22,
   "metadata": {},
   "outputs": [
    {
     "name": "stdout",
     "output_type": "stream",
     "text": [
      "\n",
      "Recombination Crossover (Tree):\n",
      "Parent 1: 1\n",
      "Parent 2: ['*', ['-', ['+', 9, 7], 2], ['+', ['+', 2, 6], ['*', 5, 0]]]\n",
      "Child 1: 1\n",
      "Child 2: ['*', ['-', ['+', 9, 7], 2], ['+', ['+', 2, 6], ['*', 5, 0]]]\n"
     ]
    }
   ],
   "source": [
    "def tree_crossover(parent1, parent2):\n",
    "\n",
    "    child1 = parent1 if isinstance(parent1, int) else parent1.copy()\n",
    "    child2 = parent2 if isinstance(parent2, int) else parent2.copy()\n",
    "\n",
    "    if isinstance(child1, list) and isinstance(child2, list):\n",
    "        idx1 = random.randint(1, 2) \n",
    "        idx2 = random.randint(1, 2)\n",
    "        print(idx1, idx2)\n",
    "        child1[idx1], child2[idx2] = child2[idx2], child1[idx1]\n",
    "    return child1, child2\n",
    "\n",
    "\n",
    "parent1 = tree_population[0]\n",
    "parent2 = tree_population[1]\n",
    "child1, child2 = tree_crossover(parent1, parent2)\n",
    "print(\"\\nRecombination Crossover (Tree):\")\n",
    "print(f\"Parent 1: {parent1}\")\n",
    "print(f\"Parent 2: {parent2}\")\n",
    "print(f\"Child 1: {child1}\")\n",
    "print(f\"Child 2: {child2}\")"
   ]
  },
  {
   "cell_type": "markdown",
   "metadata": {},
   "source": [
    "---"
   ]
  },
  {
   "cell_type": "markdown",
   "metadata": {},
   "source": [
    "## Mutation Operators\n",
    "\n",
    "<div dir=\"rtl\">\n",
    "در این بخش عمل جهش را پیاده خواهیم کرد به سه صورت\n",
    "\n",
    "1. جهش تغییر بیت \n",
    "\n",
    "2. جهش جایگزینی \n",
    "\n",
    "3. جهش گاوسی\n",
    "</div>\n"
   ]
  },
  {
   "cell_type": "markdown",
   "metadata": {},
   "source": [
    "\n",
    "### 1. Flip Bit Mutation (Binary Representation)\n",
    "\n",
    "<div dir=\"rtl\">\n",
    "یک بیت را به صورت رندوم انتخاب میکنیم و اگر صفر باشد به یک و اگر یگ باشد به صفر تغیر می دهیم\n",
    "</div>"
   ]
  },
  {
   "cell_type": "code",
   "execution_count": 23,
   "metadata": {},
   "outputs": [
    {
     "name": "stdout",
     "output_type": "stream",
     "text": [
      "Flip Bit Mutation (Binary):\n",
      "Original: [1, 0, 1, 1, 0]\n",
      "Mutated:  [1, 1, 1, 1, 0]\n"
     ]
    }
   ],
   "source": [
    "import random\n",
    "\n",
    "def flip_bit_mutation(chromosome):\n",
    "\n",
    "    mutated = chromosome.copy()\n",
    "\n",
    "    position = random.randint(0, len(mutated) - 1)\n",
    "\n",
    "    mutated[position] = 1 - mutated[position]\n",
    "    return mutated\n",
    "\n",
    "binary_chromosome = [1, 0, 1, 1, 0]\n",
    "mutated_binary = flip_bit_mutation(binary_chromosome)\n",
    "print(\"Flip Bit Mutation (Binary):\")\n",
    "print(f\"Original: {binary_chromosome}\")\n",
    "print(f\"Mutated:  {mutated_binary}\")"
   ]
  },
  {
   "cell_type": "markdown",
   "metadata": {},
   "source": [
    "---"
   ]
  },
  {
   "cell_type": "markdown",
   "metadata": {},
   "source": [
    "### 2. Gaussian Mutation (Floating Point Representation)\n",
    "\n",
    "<div dir=\"rtl\">\n",
    "در جهش گاوسی یک مقدار رندوم از توزیع گاوسی به یک ژن رندوم اضافه میکنیم.\n",
    "</div>"
   ]
  },
  {
   "cell_type": "code",
   "execution_count": 24,
   "metadata": {},
   "outputs": [
    {
     "name": "stdout",
     "output_type": "stream",
     "text": [
      "\n",
      "Gaussian Mutation (Floating Point):\n",
      "Original: [0.73, 0.12, 0.45, 0.89, 0.34]\n",
      "Mutated:  [0.73, 0.12, 0.45, 0.9263275432967154, 0.34]\n"
     ]
    }
   ],
   "source": [
    "def gaussian_mutation(chromosome, std=0.1):\n",
    "    mutated = chromosome.copy()\n",
    "\n",
    "    position = random.randint(0, len(mutated) - 1)\n",
    "\n",
    "    mutated[position] += random.gauss(0, std)\n",
    "\n",
    "    mutated[position] = max(0, min(1, mutated[position]))\n",
    "    return mutated\n",
    "\n",
    "float_chromosome = [0.73, 0.12, 0.45, 0.89, 0.34]\n",
    "mutated_float = gaussian_mutation(float_chromosome)\n",
    "print(\"\\nGaussian Mutation (Floating Point):\")\n",
    "print(f\"Original: {float_chromosome}\")\n",
    "print(f\"Mutated:  {mutated_float}\")"
   ]
  },
  {
   "cell_type": "markdown",
   "metadata": {},
   "source": [
    "---"
   ]
  },
  {
   "cell_type": "markdown",
   "metadata": {},
   "source": [
    "### 3. Replace Mutation (Tree Representation)\n",
    "\n",
    "<div dir=\"rtl\">\n",
    "جهش جایگزینی در بازنمایی درخت یک عبارت جدید درست کرد و با یک زیر درخت جاگزین میکند \n",
    "</div>"
   ]
  },
  {
   "cell_type": "code",
   "execution_count": 25,
   "metadata": {},
   "outputs": [
    {
     "name": "stdout",
     "output_type": "stream",
     "text": [
      "\n",
      "Replace Mutation (Tree):\n",
      "Original: ['+', 5, ['*', 2, 3]]\n",
      "Mutated:  ['+', ['*', ['-', 7, 1], ['+', 6, 2]], ['*', 2, 3]]\n"
     ]
    }
   ],
   "source": [
    "operators = ['+', '-', '*', '/']\n",
    "\n",
    "def generate_subtree(depth):\n",
    "    if depth == 0 or random.random() < 0.3:\n",
    "        return random.randint(0, 9) \n",
    "    else:\n",
    "        op = random.choice(operators)\n",
    "        left = generate_subtree(depth - 1)\n",
    "        right = generate_subtree(depth - 1)\n",
    "        return [op, left, right] \n",
    "\n",
    "def replace_mutation(tree, max_depth=2):\n",
    "    if isinstance(tree, int):\n",
    "        return generate_subtree(max_depth)\n",
    "    else:\n",
    "        mutated = tree.copy()\n",
    "        position = random.randint(1, 2)  \n",
    "        mutated[position] = generate_subtree(max_depth)\n",
    "        return mutated\n",
    "\n",
    "tree_chromosome = ['+', 5, ['*', 2, 3]]\n",
    "mutated_tree = replace_mutation(tree_chromosome)\n",
    "print(\"\\nReplace Mutation (Tree):\")\n",
    "print(f\"Original: {tree_chromosome}\")\n",
    "print(f\"Mutated:  {mutated_tree}\")"
   ]
  },
  {
   "cell_type": "markdown",
   "metadata": {},
   "source": [
    "## Selection Methods\n",
    "\n",
    "<div dir=\"rtl\">\n",
    "در عمل انتخاب میخواهیم جمعیت بعدی را با توجه به فیتنس اعضای جمعیت انتخاب کنیم سه روش انتخاب را در این روش با سه بازنمایی مختلف انجام خواهیم داد\n",
    "</div>"
   ]
  },
  {
   "cell_type": "markdown",
   "metadata": {},
   "source": [
    "### 1. Tournament Selection (Binary Representation)\n",
    "\n",
    "<div dir=\"rtl\">\n",
    "به صورت رندوم از جمعیت دسته هایی به طول `tornoment_size` انتخاب میکنیم و بین آنها یکی که بیشترین فیتنس را دارد را انتخاب میکنیم.\n",
    "</div>"
   ]
  },
  {
   "cell_type": "code",
   "execution_count": 26,
   "metadata": {},
   "outputs": [
    {
     "data": {
      "text/plain": [
       "[6, 3, 8]"
      ]
     },
     "execution_count": 26,
     "metadata": {},
     "output_type": "execute_result"
    }
   ],
   "source": [
    "random.sample(range(len(binary_population)), 3)"
   ]
  },
  {
   "cell_type": "code",
   "execution_count": 27,
   "metadata": {},
   "outputs": [
    {
     "name": "stdout",
     "output_type": "stream",
     "text": [
      "Original Binary Population:\n",
      "Chromosome 0: [0, 0, 0, 1, 1] | Fitness: 0.97\n",
      "Chromosome 1: [1, 1, 0, 0, 1] | Fitness: 0.07\n",
      "Chromosome 2: [0, 1, 1, 1, 1] | Fitness: 0.47\n",
      "Chromosome 3: [1, 0, 1, 0, 1] | Fitness: 0.65\n",
      "Chromosome 4: [0, 0, 0, 1, 1] | Fitness: 0.74\n",
      "Chromosome 5: [0, 1, 1, 0, 0] | Fitness: 0.40\n",
      "Chromosome 6: [0, 1, 0, 1, 1] | Fitness: 0.42\n",
      "Chromosome 7: [0, 0, 0, 1, 0] | Fitness: 0.84\n",
      "Chromosome 8: [0, 0, 0, 1, 1] | Fitness: 0.34\n",
      "Chromosome 9: [1, 1, 0, 1, 1] | Fitness: 0.09\n",
      "\n",
      "Selected Population after Tournament Selection:\n",
      "Chromosome 0: [0, 0, 0, 1, 1]\n",
      "Chromosome 1: [0, 1, 0, 1, 1]\n",
      "Chromosome 2: [0, 0, 0, 1, 0]\n",
      "Chromosome 3: [0, 1, 1, 1, 1]\n",
      "Chromosome 4: [0, 0, 0, 1, 0]\n",
      "Chromosome 5: [1, 0, 1, 0, 1]\n",
      "Chromosome 6: [0, 0, 0, 1, 0]\n",
      "Chromosome 7: [0, 0, 0, 1, 1]\n",
      "Chromosome 8: [0, 0, 0, 1, 1]\n",
      "Chromosome 9: [0, 0, 0, 1, 0]\n"
     ]
    }
   ],
   "source": [
    "def tournament_selection(population, fitness, tournament_size=3):\n",
    "    selected = []\n",
    "    for _ in range(len(population)): \n",
    "\n",
    "        tournament_indices = random.sample(range(len(population)), tournament_size)\n",
    "\n",
    "        tournament_fitness = [fitness[i] for i in tournament_indices]\n",
    "\n",
    "        best_index = tournament_indices[tournament_fitness.index(max(tournament_fitness))]\n",
    "        selected.append(population[best_index])\n",
    "    return selected\n",
    "\n",
    "fitness = [random.random() for _ in range(len(binary_population))] \n",
    "\n",
    "selected_binary = tournament_selection(binary_population, fitness)\n",
    "\n",
    "print(\"Original Binary Population:\")\n",
    "for i, chrom in enumerate(binary_population):\n",
    "    print(f\"Chromosome {i}: {chrom} | Fitness: {fitness[i]:.2f}\")\n",
    "\n",
    "print(\"\\nSelected Population after Tournament Selection:\")\n",
    "for i, chrom in enumerate(selected_binary):\n",
    "    print(f\"Chromosome {i}: {chrom}\")"
   ]
  },
  {
   "cell_type": "markdown",
   "metadata": {},
   "source": [
    "---"
   ]
  },
  {
   "cell_type": "markdown",
   "metadata": {},
   "source": [
    "### 2. Roulette Wheel Selection (Integer Representation)\n",
    "\n",
    "<div dir=\"rtl\">\n",
    "در این روش کروموزوم ها را با یک احتمال متناسب با مقدار فیتنس انتخاب میکنیم هر کدام که فیتنس بیشتری دارد احتمال انتخاب شدنش بیشتر است.\n",
    "</div>"
   ]
  },
  {
   "cell_type": "code",
   "execution_count": 28,
   "metadata": {},
   "outputs": [
    {
     "name": "stdout",
     "output_type": "stream",
     "text": [
      "Original Integer Population:\n",
      "Chromosome 0: [3, 1, 4, 9, 6] | Fitness: 0.91\n",
      "Chromosome 1: [9, 4, 4, 2, 3] | Fitness: 0.15\n",
      "Chromosome 2: [1, 5, 8, 6, 1] | Fitness: 0.52\n",
      "Chromosome 3: [1, 6, 6, 8, 6] | Fitness: 0.67\n",
      "Chromosome 4: [1, 2, 4, 0, 6] | Fitness: 0.82\n",
      "Chromosome 5: [3, 7, 2, 0, 3] | Fitness: 0.56\n",
      "Chromosome 6: [6, 2, 7, 0, 7] | Fitness: 0.92\n",
      "Chromosome 7: [4, 2, 0, 4, 4] | Fitness: 0.70\n",
      "Chromosome 8: [9, 6, 2, 4, 3] | Fitness: 0.22\n",
      "Chromosome 9: [3, 3, 0, 8, 1] | Fitness: 0.95\n",
      "\n",
      "Selected Population after Roulette Wheel Selection:\n",
      "Chromosome 0: [4, 2, 0, 4, 4]\n",
      "Chromosome 1: [1, 5, 8, 6, 1]\n",
      "Chromosome 2: [6, 2, 7, 0, 7]\n",
      "Chromosome 3: [3, 3, 0, 8, 1]\n",
      "Chromosome 4: [1, 6, 6, 8, 6]\n",
      "Chromosome 5: [9, 4, 4, 2, 3]\n",
      "Chromosome 6: [4, 2, 0, 4, 4]\n",
      "Chromosome 7: [4, 2, 0, 4, 4]\n",
      "Chromosome 8: [1, 2, 4, 0, 6]\n",
      "Chromosome 9: [6, 2, 7, 0, 7]\n"
     ]
    }
   ],
   "source": [
    "import numpy as np\n",
    "\n",
    "def roulette_wheel_selection(population, fitness):\n",
    "    total_fitness = sum(fitness)\n",
    "    probabilities = [f / total_fitness for f in fitness] \n",
    "    selected_indices = np.random.choice(len(population), size=len(population), p=probabilities)\n",
    "    selected = [population[i] for i in selected_indices]\n",
    "    return selected\n",
    "\n",
    "fitness = [random.random() for _ in range(len(integer_population))] \n",
    "\n",
    "selected_integer = roulette_wheel_selection(integer_population, fitness)\n",
    "\n",
    "print(\"Original Integer Population:\")\n",
    "for i, chrom in enumerate(integer_population):\n",
    "    print(f\"Chromosome {i}: {chrom} | Fitness: {fitness[i]:.2f}\")\n",
    "\n",
    "print(\"\\nSelected Population after Roulette Wheel Selection:\")\n",
    "for i, chrom in enumerate(selected_integer):\n",
    "    print(f\"Chromosome {i}: {chrom}\")"
   ]
  },
  {
   "cell_type": "markdown",
   "metadata": {},
   "source": [
    "### 3. Truncation Selection (Floating Point Representation)\n",
    "\n",
    "<div dir=\"rtl\">\n",
    "در انتخاب بردینی ما با مقدار فیتنس مرتب کرده و برای مثال 50 درصد برتر را به عنوان جمعیت جدید در نظر میگیرم\n",
    "</div>"
   ]
  },
  {
   "cell_type": "code",
   "execution_count": 29,
   "metadata": {},
   "outputs": [
    {
     "name": "stdout",
     "output_type": "stream",
     "text": [
      "Original Floating Point Population:\n",
      "Chromosome 0: [0.15, 0.87, 0.62, 0.18, 0.09] | Fitness: 0.82\n",
      "Chromosome 1: [0.52, 0.17, 0.39, 0.31, 0.13] | Fitness: 0.13\n",
      "Chromosome 2: [0.58, 0.59, 0.02, 0.37, 0.63] | Fitness: 0.84\n",
      "Chromosome 3: [0.6, 0.18, 0.52, 0.86, 0.37] | Fitness: 0.76\n",
      "Chromosome 4: [0.71, 0.6, 0.17, 0.65, 0.11] | Fitness: 0.13\n",
      "Chromosome 5: [0.77, 0.25, 0.22, 0.34, 0.52] | Fitness: 0.85\n",
      "Chromosome 6: [0.42, 0.23, 0.66, 0.74, 0.75] | Fitness: 0.28\n",
      "Chromosome 7: [0.85, 0.52, 0.7, 0.28, 0.76] | Fitness: 0.37\n",
      "Chromosome 8: [0.62, 0.86, 0.22, 0.37, 0.92] | Fitness: 0.60\n",
      "Chromosome 9: [0.66, 0.06, 0.65, 0.88, 0.95] | Fitness: 0.57\n",
      "\n",
      "Selected Population after Truncation Selection:\n",
      "Chromosome 0: [0.77, 0.25, 0.22, 0.34, 0.52]\n",
      "Chromosome 1: [0.58, 0.59, 0.02, 0.37, 0.63]\n",
      "Chromosome 2: [0.15, 0.87, 0.62, 0.18, 0.09]\n",
      "Chromosome 3: [0.6, 0.18, 0.52, 0.86, 0.37]\n",
      "Chromosome 4: [0.62, 0.86, 0.22, 0.37, 0.92]\n",
      "Chromosome 5: [0.77, 0.25, 0.22, 0.34, 0.52]\n",
      "Chromosome 6: [0.58, 0.59, 0.02, 0.37, 0.63]\n",
      "Chromosome 7: [0.15, 0.87, 0.62, 0.18, 0.09]\n",
      "Chromosome 8: [0.6, 0.18, 0.52, 0.86, 0.37]\n",
      "Chromosome 9: [0.62, 0.86, 0.22, 0.37, 0.92]\n"
     ]
    }
   ],
   "source": [
    "def truncation_selection(population, fitness, fraction=0.5):\n",
    "    sorted_indices = sorted(range(len(fitness)), key=lambda i: fitness[i], reverse=True)\n",
    "\n",
    "    top_count = int(len(population) * fraction)\n",
    "    top_indices = sorted_indices[:top_count]\n",
    "\n",
    "    selected = []\n",
    "    num_full_repeats = len(population) // top_count\n",
    "    for _ in range(num_full_repeats):\n",
    "        selected.extend(population[i] for i in top_indices)\n",
    "    \n",
    "    remaining_needed = len(population) % top_count\n",
    "    for i in range(remaining_needed):\n",
    "        selected.append(population[top_indices[i]])\n",
    "    return selected\n",
    "\n",
    "fitness = [random.random() for _ in range(len(float_population))] \n",
    "\n",
    "selected_float = truncation_selection(float_population, fitness)\n",
    "\n",
    "print(\"Original Floating Point Population:\")\n",
    "for i, chrom in enumerate(float_population):\n",
    "    print(f\"Chromosome {i}: {chrom} | Fitness: {fitness[i]:.2f}\")\n",
    "\n",
    "print(\"\\nSelected Population after Truncation Selection:\")\n",
    "for i, chrom in enumerate(selected_float):\n",
    "    print(f\"Chromosome {i}: {chrom}\")"
   ]
  }
 ],
 "metadata": {
  "kernelspec": {
   "display_name": "tf",
   "language": "python",
   "name": "python3"
  },
  "language_info": {
   "codemirror_mode": {
    "name": "ipython",
    "version": 3
   },
   "file_extension": ".py",
   "mimetype": "text/x-python",
   "name": "python",
   "nbconvert_exporter": "python",
   "pygments_lexer": "ipython3",
   "version": "3.10.13"
  }
 },
 "nbformat": 4,
 "nbformat_minor": 2
}
